{
 "cells": [
  {
   "cell_type": "markdown",
   "metadata": {},
   "source": [
    "### Traditional vs. Bootstrapping Confidence Intervals\n",
    "\n",
    "In this, we are going to do a quick comparison of the traditional approachs to build confidence intervals, which are actually built in the python and the approaches you have already seen using bootstrapping in this lesson. There are lost of different names for hypothesis tests and the way that we build confidence interval, like __One sample T Test__ which is used for population mean, __Two sample T Test__ which is used for comparing means, there is also a __Paired T Test__ often used to compare individual themself, or __Z Test__, or __Chi-Squared Test__ and __F Test__, ther are so many hypothesis test which are linked to the way that we created confidence interval, and bootsrapping approach can atually be used inplace of any of these, In this video we will illustrate this by example\n"
   ]
  },
  {
   "cell_type": "code",
   "execution_count": 41,
   "metadata": {},
   "outputs": [],
   "source": [
    "import pandas as pd\n",
    "import numpy as np\n",
    "import matplotlib.pyplot as plt\n",
    "%matplotlib inline\n",
    "np.random.seed(42)"
   ]
  },
  {
   "cell_type": "code",
   "execution_count": 42,
   "metadata": {},
   "outputs": [],
   "source": [
    "#read our data\n",
    "coffee_full = pd.read_csv('coffee_dataset.csv')\n",
    "coffee_red = coffee_full.sample(200)"
   ]
  },
  {
   "cell_type": "code",
   "execution_count": 43,
   "metadata": {},
   "outputs": [
    {
     "data": {
      "text/plain": [
       "(0.3965686790909317, 2.243258868112464)"
      ]
     },
     "execution_count": 43,
     "metadata": {},
     "output_type": "execute_result"
    }
   ],
   "source": [
    "#find out the confidence interval for difference in mean with the bootstrap method\n",
    "diff = []\n",
    "\n",
    "for _ in range(10000):\n",
    "    bootsample = coffee_red.sample(200, replace = True)\n",
    "    mean_coff =bootsample[bootsample['drinks_coffee'] == True]['height'].mean()\n",
    "    mean_nocoff = bootsample[bootsample['drinks_coffee'] == False]['height'].mean()\n",
    "    diff.append(mean_coff - mean_nocoff)\n",
    "\n",
    "np.percentile(diff,2.5), np.percentile(diff,97.5)"
   ]
  },
  {
   "cell_type": "code",
   "execution_count": 44,
   "metadata": {},
   "outputs": [
    {
     "data": {
      "text/plain": [
       "(0.39600106159185644, 2.273413157022891)"
      ]
     },
     "execution_count": 44,
     "metadata": {},
     "output_type": "execute_result"
    }
   ],
   "source": [
    "#lets do the same with tradition python method\n",
    "import statsmodels.stats.api as sms\n",
    "x1 = coffee_red[coffee_red['drinks_coffee'] == True]['height']\n",
    "x2 = coffee_red[coffee_red['drinks_coffee'] == False]['height']\n",
    "cm = sms.CompareMeans(sms.DescrStatsW(x1),sms.DescrStatsW(x2))\n",
    "cm.tconfint_diff(usevar='unequal')"
   ]
  },
  {
   "cell_type": "markdown",
   "metadata": {},
   "source": [
    "#### Notice the intervals for bootsrapping method and builtin, using the traditional method are nearly identical ####\n",
    "\n",
    "In this, we saw a comparison of the traditional method for calculating a difference of means using a python built in to the bootstrapping method you have been using throughout this lesson.\n",
    "\n",
    "With large sample sizes, these end up looking very similar. With smaller sample sizes, using a traditional methods likely has assumptions that are not true of your interval. Small sample sizes are not ideal for bootstrapping methods though either, as they can lead to misleading results simply due to not accurately representing your entire population well."
   ]
  }
 ],
 "metadata": {
  "kernelspec": {
   "display_name": "Python 3",
   "language": "python",
   "name": "python3"
  },
  "language_info": {
   "codemirror_mode": {
    "name": "ipython",
    "version": 3
   },
   "file_extension": ".py",
   "mimetype": "text/x-python",
   "name": "python",
   "nbconvert_exporter": "python",
   "pygments_lexer": "ipython3",
   "version": "3.7.3"
  }
 },
 "nbformat": 4,
 "nbformat_minor": 2
}
