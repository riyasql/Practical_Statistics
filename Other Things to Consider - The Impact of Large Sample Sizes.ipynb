{
 "cells": [
  {
   "cell_type": "markdown",
   "metadata": {},
   "source": [
    "# The Impact of Large Sample Sizes\n",
    "\n",
    "__Part 1: Sampling distribution with 5 samples__\n",
    "\n",
    "When we increase our sample size, even the smallest of differences may seem significant.To illustrate this point, work through this notebook will answer the questions from module."
   ]
  },
  {
   "cell_type": "markdown",
   "metadata": {},
   "source": [
    "Use the statements in the notebook to set up the null and alternative hypotheses.\n",
    "\n",
    "The mean height of everyone in the population is equal to 67.60 inches.\n",
    "\n",
    "$$\\mu = 67.60$$\n",
    "\n",
    "\n",
    "The mean height of everyone in the population is different from 67.60 inches.\n",
    "\n",
    "$$\\mu \\,!=\\, 67.6$$"
   ]
  },
  {
   "cell_type": "code",
   "execution_count": 180,
   "metadata": {},
   "outputs": [],
   "source": [
    "import pandas as pd\n",
    "import numpy as np\n",
    "import matplotlib.pyplot as plt\n",
    "%matplotlib inline\n",
    "np.random.seed(42)\n",
    "\n",
    "#lets pull the coffee_dataset and give a name for the dataframe\n",
    "df = pd.read_csv('coffee_dataset.csv')"
   ]
  },
  {
   "cell_type": "markdown",
   "metadata": {},
   "source": [
    "__The population mean__\n",
    "\n",
    "Which is given that 67.60"
   ]
  },
  {
   "cell_type": "code",
   "execution_count": 181,
   "metadata": {},
   "outputs": [],
   "source": [
    "#lets bootstrap the sample and find the mean and store it in a vector called means5\n",
    "#calculate the standard deviation of our sampling distribution\n",
    "\n",
    "sample_df = df.sample(5)\n",
    "means5 = [] \n",
    "for _ in range(10000):\n",
    "    bootsample = sample_df.sample(5, replace = True)\n",
    "    means5.append(bootsample.height.mean())"
   ]
  },
  {
   "cell_type": "markdown",
   "metadata": {},
   "source": [
    "__The shape of the sampling ditribution for the mean of 5 values__"
   ]
  },
  {
   "cell_type": "code",
   "execution_count": 182,
   "metadata": {},
   "outputs": [
    {
     "data": {
      "image/png": "[encoded data removed]",
      "text/plain": [
       "<Figure size 432x288 with 1 Axes>"
      ]
     },
     "metadata": {
      "needs_background": "light"
     },
     "output_type": "display_data"
    }
   ],
   "source": [
    "plt.hist(means5);"
   ]
  },
  {
   "cell_type": "markdown",
   "metadata": {},
   "source": [
    "_Shape of the sampling distribution looks noramly distributed_"
   ]
  },
  {
   "cell_type": "markdown",
   "metadata": {},
   "source": [
    "__The sample mean is__"
   ]
  },
  {
   "cell_type": "code",
   "execution_count": 183,
   "metadata": {},
   "outputs": [
    {
     "data": {
      "text/plain": [
       "67.88234252049084"
      ]
     },
     "execution_count": 183,
     "metadata": {},
     "output_type": "execute_result"
    }
   ],
   "source": [
    "sample_mean = sample_df.height.mean()\n",
    "sample_mean"
   ]
  },
  {
   "cell_type": "markdown",
   "metadata": {},
   "source": [
    "__The standard deviation of the sampling distribution for the mean of 5 values__"
   ]
  },
  {
   "cell_type": "code",
   "execution_count": 184,
   "metadata": {},
   "outputs": [
    {
     "data": {
      "text/plain": [
       "1.141357351999374"
      ]
     },
     "execution_count": 184,
     "metadata": {},
     "output_type": "execute_result"
    }
   ],
   "source": [
    "np.std(means5)"
   ]
  },
  {
   "cell_type": "markdown",
   "metadata": {},
   "source": [
    "So the standard deviation of sampling distributin is 1.14\n",
    "\n",
    "#### We know if it is came from the null hypothesis value 67.60, what it would look like?\n",
    "\n",
    "By central limit theorem it would follow normal distribution. Now from the [numpy documentation](https://numpy.org/doc/stable/reference/random/generated/numpy.random.normal.html) on normal distribution , we see we can simulate draws from the normal distribution using the hypothesis mean at 67.60 in the standard deviation of our sampling distribution following way."
   ]
  },
  {
   "cell_type": "code",
   "execution_count": 185,
   "metadata": {},
   "outputs": [],
   "source": [
    "#in this equation, the parameter loc which is the mean of the distribution which is 67.60, \n",
    "#and parameter scale is the standard deviation of the sampling distribution and we can simulate for a 10000 values now\n",
    "null_mean  = 67.60\n",
    "null_values5 = np.random.normal(null_mean, np.std(means5), 10000)"
   ]
  },
  {
   "cell_type": "markdown",
   "metadata": {},
   "source": [
    "Each of the simulated draws above represents the possible means from null hypothesis, we can now ask the question where the sample mean falls in this distribution"
   ]
  },
  {
   "cell_type": "code",
   "execution_count": 186,
   "metadata": {},
   "outputs": [
    {
     "data": {
      "image/png": "[encoded data removed]",
      "text/plain": [
       "<Figure size 432x288 with 1 Axes>"
      ]
     },
     "metadata": {
      "needs_background": "light"
     },
     "output_type": "display_data"
    }
   ],
   "source": [
    "#plot the hisrogram and have a look at where the sample mean falls\n",
    "plt.hist(null_values5);\n",
    "plt.axvline(x=sample_df.height.mean(), color = 'red'); # where our sample mean falls on null distribution"
   ]
  },
  {
   "cell_type": "markdown",
   "metadata": {},
   "source": [
    "_Observed sample mean is in the almost center and bulk of the simulated above null hypothesis distribution_"
   ]
  },
  {
   "cell_type": "markdown",
   "metadata": {},
   "source": [
    "__Since our statistic, sample mean is from the bulk of the distribution, this suggested that the statistic is likely from our Null hupothesis.__"
   ]
  },
  {
   "cell_type": "markdown",
   "metadata": {},
   "source": [
    "__The p-value that you obtain using the null from part 1__"
   ]
  },
  {
   "cell_type": "markdown",
   "metadata": {},
   "source": [
    "$$\\mu = 67.6$$\n",
    "\n",
    "$$\\mu_ \\,!= 67.6$$\n",
    "\n",
    "Since $\\mu != 67.60$ is our alternative hypothesis, we now want to look at the values that are more extream than our sample mean in either direction away from null hypothesis, that looks like the belwo equation."
   ]
  },
  {
   "cell_type": "markdown",
   "metadata": {},
   "source": [
    "First, we look at the direction of the observed mean in relation to the null mean. In our case, the observed mean is greater than the null mean. So first of all, we are going to calculate all of the values of the null distribution that are higher than the observed mean, or the right/upper tail (we've done this before in our first example).\n"
   ]
  },
  {
   "cell_type": "code",
   "execution_count": 187,
   "metadata": {},
   "outputs": [
    {
     "data": {
      "text/plain": [
       "0.4071"
      ]
     },
     "execution_count": 187,
     "metadata": {},
     "output_type": "execute_result"
    }
   ],
   "source": [
    "p_upper5 = (null_values5 > sample_mean).mean()\n",
    "p_upper5"
   ]
  },
  {
   "cell_type": "markdown",
   "metadata": {},
   "source": [
    "The value of 'p_upper' is : 0.40\n",
    "\n",
    "Then we need to look at the other side/tail. For us that will be the left/lower tail. The calculation goes like this:"
   ]
  },
  {
   "cell_type": "code",
   "execution_count": 188,
   "metadata": {},
   "outputs": [
    {
     "data": {
      "text/plain": [
       "67.31765747950915"
      ]
     },
     "execution_count": 188,
     "metadata": {},
     "output_type": "execute_result"
    }
   ],
   "source": [
    "diff_means = null_mean - sample_mean\n",
    "lower_compare= null_mean + diff_means\n",
    "lower_compare"
   ]
  },
  {
   "cell_type": "markdown",
   "metadata": {},
   "source": [
    "The above first line calculates the difference between the null mean and the observed mean. The second line adds this to the null mean to get the difference on the other side. "
   ]
  },
  {
   "cell_type": "code",
   "execution_count": 189,
   "metadata": {},
   "outputs": [
    {
     "data": {
      "text/plain": [
       "0.3979"
      ]
     },
     "execution_count": 189,
     "metadata": {},
     "output_type": "execute_result"
    }
   ],
   "source": [
    "p_lower5 = (null_values5 < lower_compare).mean()\n",
    "p_lower5"
   ]
  },
  {
   "cell_type": "markdown",
   "metadata": {},
   "source": [
    "And then the comparison is made for all values in the distribution that are lower than the line on the left side.\n",
    "\n",
    "So the value for 'p_lower' will be: 0.39\n",
    "\n",
    "\n",
    "To find the total p-value, we add 'p_upper' and 'p_lower' together."
   ]
  },
  {
   "cell_type": "code",
   "execution_count": 190,
   "metadata": {},
   "outputs": [
    {
     "data": {
      "text/plain": [
       "0.8049999999999999"
      ]
     },
     "execution_count": 190,
     "metadata": {},
     "output_type": "execute_result"
    }
   ],
   "source": [
    "p_val5 = p_upper5 + p_lower5\n",
    "p_val5"
   ]
  },
  {
   "cell_type": "markdown",
   "metadata": {},
   "source": [
    "The p-value will be:\n",
    "\n",
    "0.80"
   ]
  },
  {
   "cell_type": "markdown",
   "metadata": {},
   "source": [
    "__Here our above pvalue 0.80, if we consider here alpha as .05, p values is > $\\alpha\\$ it suggest that we shouldnt move away from null hypothesis, In our case, we say that we should stay at our null hypothesis that mean is being 67.60. So we would fail to reject the nul hypothesis__\n",
    "\n",
    "$$pval>α⇒ Fail to Reject H_{0}$$"
   ]
  },
  {
   "cell_type": "code",
   "execution_count": 191,
   "metadata": {},
   "outputs": [
    {
     "data": {
      "image/png": "[encoded data removed]",
      "text/plain": [
       "<Figure size 432x288 with 1 Axes>"
      ]
     },
     "metadata": {
      "needs_background": "light"
     },
     "output_type": "display_data"
    }
   ],
   "source": [
    "low = sample_mean\n",
    "high = null_mean + (null_mean - sample_mean)\n",
    "\n",
    "plt.hist(null_values5);\n",
    "plt.axvline(x=low, color = 'r', linewidth = 2);\n",
    "plt.axvline(x=high, color = 'r', linewidth = 2);"
   ]
  },
  {
   "cell_type": "code",
   "execution_count": 192,
   "metadata": {},
   "outputs": [
    {
     "name": "stdout",
     "output_type": "stream",
     "text": [
      "67.88234252049084 67.31765747950915\n"
     ]
    }
   ],
   "source": [
    "print(low, high)"
   ]
  },
  {
   "cell_type": "markdown",
   "metadata": {},
   "source": [
    "__The standard deviation of population height is__"
   ]
  },
  {
   "cell_type": "code",
   "execution_count": 193,
   "metadata": {},
   "outputs": [
    {
     "data": {
      "text/plain": [
       "3.1189087116821472"
      ]
     },
     "execution_count": 193,
     "metadata": {},
     "output_type": "execute_result"
    }
   ],
   "source": [
    "np.std(df.height)"
   ]
  },
  {
   "cell_type": "markdown",
   "metadata": {},
   "source": [
    "# Part 2\n",
    "\n",
    "__Sampling distribution with 300 samples__"
   ]
  },
  {
   "cell_type": "markdown",
   "metadata": {},
   "source": [
    "__The standard deviation of the sampling distribution for the mean of 300 values__"
   ]
  },
  {
   "cell_type": "code",
   "execution_count": 194,
   "metadata": {},
   "outputs": [],
   "source": [
    "#repeat the same above steps in part 1, but this time with 300 samples with the same old sample mean\n",
    "sample_df300 = df.sample(300)\n",
    "means300 = [] \n",
    "for _ in range(10000):\n",
    "    bootsample = sample_df300.sample(300, replace = True)\n",
    "    means300.append(bootsample.height.mean())"
   ]
  },
  {
   "cell_type": "code",
   "execution_count": 195,
   "metadata": {},
   "outputs": [
    {
     "data": {
      "text/plain": [
       "0.1810848597411894"
      ]
     },
     "execution_count": 195,
     "metadata": {},
     "output_type": "execute_result"
    }
   ],
   "source": [
    "np.std(means300)"
   ]
  },
  {
   "cell_type": "code",
   "execution_count": 196,
   "metadata": {},
   "outputs": [
    {
     "data": {
      "image/png": "[encoded data removed]",
      "text/plain": [
       "<Figure size 432x288 with 1 Axes>"
      ]
     },
     "metadata": {
      "needs_background": "light"
     },
     "output_type": "display_data"
    }
   ],
   "source": [
    "null_values300 = np.random.normal(null_mean, np.std(means300), 10000)\n",
    "plt.hist(null_values300);\n",
    "plt.axvline(x=low, color = 'r', linewidth = 2);\n",
    "plt.axvline(x=high, color = 'r', linewidth = 2);"
   ]
  },
  {
   "cell_type": "code",
   "execution_count": 197,
   "metadata": {},
   "outputs": [
    {
     "data": {
      "text/plain": [
       "0.056"
      ]
     },
     "execution_count": 197,
     "metadata": {},
     "output_type": "execute_result"
    }
   ],
   "source": [
    "p_upper300 = (null_values300 > sample_mean).mean()\n",
    "p_upper300"
   ]
  },
  {
   "cell_type": "code",
   "execution_count": 198,
   "metadata": {},
   "outputs": [
    {
     "data": {
      "text/plain": [
       "-0.2823425204908432"
      ]
     },
     "execution_count": 198,
     "metadata": {},
     "output_type": "execute_result"
    }
   ],
   "source": [
    "diff_means300 = null_mean - sample_mean\n",
    "diff_means300"
   ]
  },
  {
   "cell_type": "code",
   "execution_count": 199,
   "metadata": {},
   "outputs": [
    {
     "data": {
      "text/plain": [
       "67.31765747950915"
      ]
     },
     "execution_count": 199,
     "metadata": {},
     "output_type": "execute_result"
    }
   ],
   "source": [
    "lower_compare = null_mean + diff_means300\n",
    "lower_compare"
   ]
  },
  {
   "cell_type": "code",
   "execution_count": 200,
   "metadata": {},
   "outputs": [
    {
     "data": {
      "text/plain": [
       "0.0529"
      ]
     },
     "execution_count": 200,
     "metadata": {},
     "output_type": "execute_result"
    }
   ],
   "source": [
    "p_lower300 = (null_values300 < lower_compare).mean()\n",
    "p_lower300"
   ]
  },
  {
   "cell_type": "code",
   "execution_count": 201,
   "metadata": {},
   "outputs": [
    {
     "data": {
      "text/plain": [
       "0.1089"
      ]
     },
     "execution_count": 201,
     "metadata": {},
     "output_type": "execute_result"
    }
   ],
   "source": [
    "p_val300 = p_upper300 + p_lower300\n",
    "p_val300"
   ]
  },
  {
   "cell_type": "markdown",
   "metadata": {},
   "source": [
    "__Here our pvalue is 0.10, if we consider here alpha as 0.1, p values is equal to $\\alpha\\$.\n",
    "The p-value is the probability of getting our statistic or a more extreme value if the null is true.\n",
    "Therefore, small p-values suggest our null is not true. Rather, our statistic is likely to have come from a \n",
    "different distribution than the null.__\n",
    "\n",
    "$$pval≤α⇒ Reject H_{0}$$"
   ]
  },
  {
   "cell_type": "markdown",
   "metadata": {},
   "source": [
    "__Even the smallest of differences between a sample mean and a hypothesized population mean are significant when we have large sample sizes.__"
   ]
  }
 ],
 "metadata": {
  "kernelspec": {
   "display_name": "Python 3",
   "language": "python",
   "name": "python3"
  },
  "language_info": {
   "codemirror_mode": {
    "name": "ipython",
    "version": 3
   },
   "file_extension": ".py",
   "mimetype": "text/x-python",
   "name": "python",
   "nbconvert_exporter": "python",
   "pygments_lexer": "ipython3",
   "version": "3.7.3"
  }
 },
 "nbformat": 4,
 "nbformat_minor": 2
}
