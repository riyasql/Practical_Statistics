{
 "cells": [
  {
   "cell_type": "markdown",
   "metadata": {},
   "source": [
    "# 1.Using a Confidence Interval to Make A Decision"
   ]
  },
  {
   "cell_type": "code",
   "execution_count": 102,
   "metadata": {},
   "outputs": [],
   "source": [
    "import pandas as pd\n",
    "import numpy as np\n",
    "import matplotlib.pyplot as plt\n",
    "%matplotlib inline\n",
    "\n",
    "np.random.seed(42)\n",
    "df = pd.read_csv('coffee_dataset.csv')"
   ]
  },
  {
   "cell_type": "markdown",
   "metadata": {},
   "source": [
    "#### what if we want to ask the question, if average height of coffee drinkers >70 inches?\n",
    "\n",
    "We can set up the null and alternative hypothesis following way. Here we we have average height of all coffee drinkers <=70 in the null hypothesis and the average height is >70 in the alternative hypothesis, notice we are allways testing parameter so i am using $\\mu$ to represent the mean of all cofee drinkers.\n",
    "\n",
    "$$H_0:\\mu<=70$$\n",
    "$$H_1:\\mu>70$$\n",
    "\n",
    "\n",
    "Based on what we did with confidence intervals, you can imagine a way to prove if this null hypothesis is possible. Its just to bootstrap a sample set of data and compute the sample mean again and agian. And build the sampling distribution and corresponding confidence interval to determine what are the possible values for the population mean with some level of cofidence.Lets do this"
   ]
  },
  {
   "cell_type": "code",
   "execution_count": 103,
   "metadata": {},
   "outputs": [],
   "source": [
    "#lets get a smple from our datset\n",
    "sample_df = df.sample(150)"
   ]
  },
  {
   "cell_type": "code",
   "execution_count": 104,
   "metadata": {},
   "outputs": [],
   "source": [
    "#lets bootstrap the sample\n",
    "bootsample = sample_df.sample(150, replace = True)"
   ]
  },
  {
   "cell_type": "code",
   "execution_count": 105,
   "metadata": {},
   "outputs": [],
   "source": [
    "#lets bootstrap 10000  times and compute mean for the each bootstrap sample and store it in a vector called mean\n",
    "means = [] #empty vector\n",
    "for _ in range(10000):\n",
    "    bootsample = sample_df.sample(150, replace = True) #bootstrap sample\n",
    "    means.append(bootsample.height.mean()) #find the mean of each bootstrap sample and append into means"
   ]
  },
  {
   "cell_type": "code",
   "execution_count": 106,
   "metadata": {},
   "outputs": [],
   "source": [
    "#create the lover and upper bound confidence interval\n",
    "low, upper = np.percentile(means, 2.5), np.percentile(means, 97.5)"
   ]
  },
  {
   "cell_type": "code",
   "execution_count": 107,
   "metadata": {},
   "outputs": [
    {
     "data": {
      "image/png": "[encoded data removed]",
      "text/plain": [
       "<Figure size 432x288 with 1 Axes>"
      ]
     },
     "metadata": {
      "needs_background": "light"
     },
     "output_type": "display_data"
    }
   ],
   "source": [
    "#plot a histogram\n",
    "plt.hist(means);\n",
    "plt.axvline(x=low, color='r', linewidth=2);\n",
    "plt.axvline(x=upper, color='r', linewidth=2);"
   ]
  },
  {
   "cell_type": "markdown",
   "metadata": {},
   "source": [
    "Using our confidence interval, we can simply look at if the interval falls in the null hypothesis space or in the alternative hypothesis space to choose which hypothesis you believe to be true.\n",
    "\n",
    "#### In the above case, our interval was entirely below 70, which would suggest the null (the population mean is less than 70) is actually true."
   ]
  },
  {
   "cell_type": "markdown",
   "metadata": {},
   "source": [
    "# 2.Simulating from The Null Hypothesis"
   ]
  },
  {
   "cell_type": "code",
   "execution_count": 108,
   "metadata": {},
   "outputs": [],
   "source": [
    "import pandas as pd\n",
    "import numpy as np\n",
    "import matplotlib.pyplot as plt\n",
    "%matplotlib inline\n",
    "\n",
    "np.random.seed(42)\n",
    "df = pd.read_csv('coffee_dataset.csv')"
   ]
  },
  {
   "cell_type": "markdown",
   "metadata": {},
   "source": [
    "#### Consider the same example as above wher we asked weather mean height of all coffee drinkers > 70, \n",
    "We could again setup Null and alternative hypothesis like below\n",
    "\n",
    "$$H_0:\\mu<=70$$\n",
    "$$H_1:\\mu>70$$\n",
    "\n",
    "\n",
    "#### A second approach which is commonly done making decisions in hypothesis testing is the following\n",
    "\n",
    "We assume that the null is true and we know what the sampling distribution would look like if we could similuate the closest value under the null to the alternative\n",
    "\n",
    "_In hypothesis testing, we first simulate from the closest value to the alternative that is still in the null space_\n",
    "\n",
    "That is $\\mu$ value to the 70, that is the closest value under null hypothesis to the alternative hypothesis, we could use the standard deviation of the sampling distribution to determine what the sampling distribution would look like if it came from the null hypothesis. We will simulate fromt the normal distribution in this case"
   ]
  },
  {
   "cell_type": "code",
   "execution_count": 109,
   "metadata": {},
   "outputs": [],
   "source": [
    "#lets pull out the same above code and calculate the standard deviation of our sampling distribution\n",
    "sample_df = df.sample(150)\n",
    "means = [] \n",
    "for _ in range(10000):\n",
    "    bootsample = sample_df.sample(150, replace = True) \n",
    "    means.append(bootsample.height.mean())"
   ]
  },
  {
   "cell_type": "code",
   "execution_count": 110,
   "metadata": {},
   "outputs": [
    {
     "data": {
      "text/plain": [
       "0.2658039514418037"
      ]
     },
     "execution_count": 110,
     "metadata": {},
     "output_type": "execute_result"
    }
   ],
   "source": [
    "np.std(means)"
   ]
  },
  {
   "cell_type": "markdown",
   "metadata": {},
   "source": [
    "The sampling distribution for the mean is also equla to: $$\\frac{\\sigma}{\\sqrt{N}}$$"
   ]
  },
  {
   "cell_type": "markdown",
   "metadata": {},
   "source": [
    "So the standard deviation of sampling distributin is 0.265\n",
    "\n",
    "#### we know if it is came from the null hypothesis value 70, what it would look like?\n",
    "\n",
    "By central limit theorem it would follow normal distribution (_With a sample size of 150, the mean should follow a normal distribution by the central limit theorem_). Now from the [numpy documentation](https://numpy.org/doc/stable/reference/random/generated/numpy.random.normal.html) on normal distribution , we see we can simulate draws from the normal distribution using the hypothesis mean at 70 in the standard deviation of our sampling distribution following way."
   ]
  },
  {
   "cell_type": "code",
   "execution_count": 111,
   "metadata": {},
   "outputs": [],
   "source": [
    "#in this equation, the parameter loc which is the mean of the distribution which is 70, \n",
    "#and parameter scale is the standard deviation of the sampling distribution and we can simulate for a 10000 values now\n",
    "null_vals = np.random.normal(70, np.std(means),10000)"
   ]
  },
  {
   "cell_type": "markdown",
   "metadata": {},
   "source": [
    "Each of the simulated draws above represents the possible means from null hypothesis, we can now ask the question where the sample mean falls in this distribution"
   ]
  },
  {
   "cell_type": "code",
   "execution_count": 112,
   "metadata": {},
   "outputs": [
    {
     "data": {
      "image/png": "[encoded data removed]",
      "text/plain": [
       "<Figure size 432x288 with 1 Axes>"
      ]
     },
     "metadata": {
      "needs_background": "light"
     },
     "output_type": "display_data"
    }
   ],
   "source": [
    "plt.hist(null_vals);"
   ]
  },
  {
   "cell_type": "code",
   "execution_count": 113,
   "metadata": {},
   "outputs": [
    {
     "data": {
      "text/plain": [
       "67.63297688228066"
      ]
     },
     "execution_count": 113,
     "metadata": {},
     "output_type": "execute_result"
    }
   ],
   "source": [
    "sample_df.height.mean()"
   ]
  },
  {
   "cell_type": "markdown",
   "metadata": {},
   "source": [
    "If we go back and have a look at where our sample mean was, which is the value 67.63, It falls far below in the above ploted histogram of Null hypothesis distribution, if our sample mean falls closer to the center value (which is 70) of the above plotted histogram, it would be a value that we would expect from the null hypothesis. And there for we think that the null is more likely to be true. In this case where our sample mean(67.63) so for below from the tail of the above ploted distribution.Its fair enough that the sample mean is not came from the hypothesis value.\n",
    "\n",
    "_<b>Comparing the actual sample mean to this distribution tells us the likelihood of our statistics coming from the Null<b>_\n",
    "\n",
    "### Some Clarity On The Ending\n",
    "In the end, it is suggested that we do not believe that our null hypothesis value of 70 would be supported, which is true. However, since our null is that the population mean is less than or equal to 70, we do have evidence to support this claim with our sample mean of approximately 67. This would suggest not rejecting our one-sided null alternative.\n",
    "\n",
    "If we had a null where we asked if the population mean was equal to 70, then we would be able to reject this null in favor of an alternative that suggested the population mean was actually different from 70."
   ]
  }
 ],
 "metadata": {
  "kernelspec": {
   "display_name": "Python 3",
   "language": "python",
   "name": "python3"
  },
  "language_info": {
   "codemirror_mode": {
    "name": "ipython",
    "version": 3
   },
   "file_extension": ".py",
   "mimetype": "text/x-python",
   "name": "python",
   "nbconvert_exporter": "python",
   "pygments_lexer": "ipython3",
   "version": "3.7.3"
  }
 },
 "nbformat": 4,
 "nbformat_minor": 2
}
