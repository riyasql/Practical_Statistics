{
 "cells": [
  {
   "cell_type": "markdown",
   "metadata": {},
   "source": [
    "### Central Limit Theorem - Part II\n",
    "In the previous concept, you saw that a sample size of 3 wasn't large enough for the Central Limit Theorem to \"kick-in\". In this notebook, you will try a larger sample size. Work through the notebook below to see the impact of the increased sample size."
   ]
  },
  {
   "cell_type": "code",
   "execution_count": 98,
   "metadata": {},
   "outputs": [],
   "source": [
    "import numpy as np\n",
    "import matplotlib.pyplot as plt\n",
    "%matplotlib inline\n",
    "np.random.seed(42)"
   ]
  },
  {
   "cell_type": "code",
   "execution_count": 99,
   "metadata": {},
   "outputs": [
    {
     "data": {
      "image/png": "[encoded data removed]",
      "text/plain": [
       "<Figure size 432x288 with 1 Axes>"
      ]
     },
     "metadata": {
      "needs_background": "light"
     },
     "output_type": "display_data"
    }
   ],
   "source": [
    "pop_data=np.random.gamma(1,100,3000)\n",
    "plt.hist(pop_data);"
   ]
  },
  {
   "cell_type": "markdown",
   "metadata": {},
   "source": [
    "#### 1. In order to create the sampling distribution for the average of 100 draws of this distribution, follow these steps:\n",
    "\n",
    "* Use numpy's random.choice to simulate 100 draws from the pop_data array\n",
    "* Compute the mean of these 100 draws.\n",
    "* Write a loop to simulate this process 10,000 times, and store each mean into an array called means_size_100.\n",
    "* Plot a histogram of your sample means.\n",
    "* Use means_size_100 and pop_data to answer the quiz questions below."
   ]
  },
  {
   "cell_type": "code",
   "execution_count": 100,
   "metadata": {},
   "outputs": [
    {
     "data": {
      "text/plain": [
       "115.89760480820178"
      ]
     },
     "execution_count": 100,
     "metadata": {},
     "output_type": "execute_result"
    }
   ],
   "source": [
    "#draw 100 samples using the below random.choice \n",
    "sample_100 = np.random.choice(pop_data,100)\n",
    "#find out the mean of 100 draws\n",
    "sample_100.mean()"
   ]
  },
  {
   "cell_type": "code",
   "execution_count": 101,
   "metadata": {},
   "outputs": [],
   "source": [
    "#write a fol loop to repeat the process for 10,000 times and store the value in an array\n",
    "mean_size_100 = []\n",
    "for _ in range(10000):\n",
    "    sample_size_100 = np.random.choice(pop_data,100)\n",
    "    mean_size_100.append(sample_size_100.mean())   "
   ]
  },
  {
   "cell_type": "code",
   "execution_count": 102,
   "metadata": {},
   "outputs": [
    {
     "data": {
      "image/png": "[encoded data removed]",
      "text/plain": [
       "<Figure size 432x288 with 1 Axes>"
      ]
     },
     "metadata": {
      "needs_background": "light"
     },
     "output_type": "display_data"
    }
   ],
   "source": [
    "# plot histogram of 100 samples\n",
    "plt.hist(sample_100)\n",
    "plt.xlabel('Mean')\n",
    "plt.ylabel('Frequency')\n",
    "plt.title('Frequency of Mean');"
   ]
  },
  {
   "cell_type": "code",
   "execution_count": 103,
   "metadata": {},
   "outputs": [
    {
     "data": {
      "image/png": "[encoded data removed]",
      "text/plain": [
       "<Figure size 432x288 with 1 Axes>"
      ]
     },
     "metadata": {
      "needs_background": "light"
     },
     "output_type": "display_data"
    }
   ],
   "source": [
    "# plot histogram of 100 samples tested 10K time\n",
    "plt.hist(mean_size_100)\n",
    "plt.xlabel('Mean')\n",
    "plt.ylabel('Frequency')\n",
    "plt.title('Frequency of Mean');"
   ]
  },
  {
   "cell_type": "code",
   "execution_count": 104,
   "metadata": {},
   "outputs": [
    {
     "data": {
      "text/plain": [
       "(9955.76939306549, 99.77860187968906, 100.35978700795846)"
      ]
     },
     "execution_count": 104,
     "metadata": {},
     "output_type": "execute_result"
    }
   ],
   "source": [
    "# compute statistics for population\n",
    "np.var(pop_data), np.std(pop_data), pop_data.mean()"
   ]
  },
  {
   "cell_type": "code",
   "execution_count": 105,
   "metadata": {},
   "outputs": [
    {
     "data": {
      "text/plain": [
       "(99.44037691417994, 9.971979588536067)"
      ]
     },
     "execution_count": 105,
     "metadata": {},
     "output_type": "execute_result"
    }
   ],
   "source": [
    "# compute statistics for mean_size_100\n",
    "np.var(mean_size_100), np.std(mean_size_100)"
   ]
  },
  {
   "cell_type": "code",
   "execution_count": 106,
   "metadata": {},
   "outputs": [
    {
     "data": {
      "text/plain": [
       "(12098.749344943082, 109.99431505738413, 115.89760480820178)"
      ]
     },
     "execution_count": 106,
     "metadata": {},
     "output_type": "execute_result"
    }
   ],
   "source": [
    "# compute statistics for sample_100\n",
    "np.var(sample_100), np.std(sample_100), sample_100.mean()"
   ]
  }
 ],
 "metadata": {
  "kernelspec": {
   "display_name": "Python 3",
   "language": "python",
   "name": "python3"
  },
  "language_info": {
   "codemirror_mode": {
    "name": "ipython",
    "version": 3
   },
   "file_extension": ".py",
   "mimetype": "text/x-python",
   "name": "python",
   "nbconvert_exporter": "python",
   "pygments_lexer": "ipython3",
   "version": "3.7.3"
  }
 },
 "nbformat": 4,
 "nbformat_minor": 2
}
