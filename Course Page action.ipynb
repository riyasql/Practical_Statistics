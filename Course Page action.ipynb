{
 "cells": [
  {
   "cell_type": "markdown",
   "metadata": {},
   "source": [
    "The second change Audacity is A/B testing is a more career focused description on a course overview page. They hope that this change may encourage more users to enroll and complete this course. In this experiment, we’re going to analyze the following metrics:\n",
    "\n",
    "1. __Enrollment Rate:__ Click through rate for the Enroll button the course overview page\n",
    "2. __Average Reading Duration:__ Average number of seconds spent on the course overview page\n",
    "3. __Average Classroom Time:__ Average number of days spent in the classroom for students enrolled in the course\n",
    "4. __Completion Rate:__ Course completion rate for students enrolled in the course\n",
    "\n",
    "First, let's determine if the difference observed for each metric is statistically significant individually."
   ]
  },
  {
   "cell_type": "code",
   "execution_count": 16,
   "metadata": {},
   "outputs": [
    {
     "data": {
      "text/html": [
       "<div>\n",
       "<style scoped>\n",
       "    .dataframe tbody tr th:only-of-type {\n",
       "        vertical-align: middle;\n",
       "    }\n",
       "\n",
       "    .dataframe tbody tr th {\n",
       "        vertical-align: top;\n",
       "    }\n",
       "\n",
       "    .dataframe thead th {\n",
       "        text-align: right;\n",
       "    }\n",
       "</style>\n",
       "<table border=\"1\" class=\"dataframe\">\n",
       "  <thead>\n",
       "    <tr style=\"text-align: right;\">\n",
       "      <th></th>\n",
       "      <th>timestamp</th>\n",
       "      <th>id</th>\n",
       "      <th>group</th>\n",
       "      <th>action</th>\n",
       "      <th>duration</th>\n",
       "    </tr>\n",
       "  </thead>\n",
       "  <tbody>\n",
       "    <tr>\n",
       "      <td>0</td>\n",
       "      <td>2016-09-24 17:14:52.012145</td>\n",
       "      <td>261869</td>\n",
       "      <td>experiment</td>\n",
       "      <td>view</td>\n",
       "      <td>130.545004</td>\n",
       "    </tr>\n",
       "    <tr>\n",
       "      <td>1</td>\n",
       "      <td>2016-09-24 18:45:09.645857</td>\n",
       "      <td>226546</td>\n",
       "      <td>experiment</td>\n",
       "      <td>view</td>\n",
       "      <td>159.862440</td>\n",
       "    </tr>\n",
       "    <tr>\n",
       "      <td>2</td>\n",
       "      <td>2016-09-24 19:16:21.002533</td>\n",
       "      <td>286353</td>\n",
       "      <td>experiment</td>\n",
       "      <td>view</td>\n",
       "      <td>79.349315</td>\n",
       "    </tr>\n",
       "    <tr>\n",
       "      <td>3</td>\n",
       "      <td>2016-09-24 19:43:06.927785</td>\n",
       "      <td>842279</td>\n",
       "      <td>experiment</td>\n",
       "      <td>view</td>\n",
       "      <td>55.536126</td>\n",
       "    </tr>\n",
       "    <tr>\n",
       "      <td>4</td>\n",
       "      <td>2016-09-24 21:08:22.790333</td>\n",
       "      <td>781883</td>\n",
       "      <td>experiment</td>\n",
       "      <td>view</td>\n",
       "      <td>204.322437</td>\n",
       "    </tr>\n",
       "    <tr>\n",
       "      <td>5</td>\n",
       "      <td>2016-09-24 17:14:52.012145</td>\n",
       "      <td>261869</td>\n",
       "      <td>experiment</td>\n",
       "      <td>view</td>\n",
       "      <td>130.545004</td>\n",
       "    </tr>\n",
       "    <tr>\n",
       "      <td>6</td>\n",
       "      <td>2016-09-24 18:45:09.645857</td>\n",
       "      <td>226546</td>\n",
       "      <td>experiment</td>\n",
       "      <td>view</td>\n",
       "      <td>159.862440</td>\n",
       "    </tr>\n",
       "    <tr>\n",
       "      <td>7</td>\n",
       "      <td>2016-09-24 19:16:21.002533</td>\n",
       "      <td>286353</td>\n",
       "      <td>experiment</td>\n",
       "      <td>view</td>\n",
       "      <td>79.349315</td>\n",
       "    </tr>\n",
       "    <tr>\n",
       "      <td>8</td>\n",
       "      <td>2016-09-24 19:43:06.927785</td>\n",
       "      <td>842279</td>\n",
       "      <td>experiment</td>\n",
       "      <td>view</td>\n",
       "      <td>55.536126</td>\n",
       "    </tr>\n",
       "    <tr>\n",
       "      <td>9</td>\n",
       "      <td>2016-09-24 21:08:22.790333</td>\n",
       "      <td>781883</td>\n",
       "      <td>experiment</td>\n",
       "      <td>enroll</td>\n",
       "      <td>204.322437</td>\n",
       "    </tr>\n",
       "    <tr>\n",
       "      <td>10</td>\n",
       "      <td>2016-09-24 22:18:15.857434</td>\n",
       "      <td>266695</td>\n",
       "      <td>experiment</td>\n",
       "      <td>view</td>\n",
       "      <td>151.235475</td>\n",
       "    </tr>\n",
       "    <tr>\n",
       "      <td>11</td>\n",
       "      <td>2016-09-24 22:42:41.218757</td>\n",
       "      <td>701620</td>\n",
       "      <td>control</td>\n",
       "      <td>view</td>\n",
       "      <td>302.951552</td>\n",
       "    </tr>\n",
       "    <tr>\n",
       "      <td>12</td>\n",
       "      <td>2016-09-24 22:43:35.119748</td>\n",
       "      <td>701620</td>\n",
       "      <td>control</td>\n",
       "      <td>view</td>\n",
       "      <td>NaN</td>\n",
       "    </tr>\n",
       "    <tr>\n",
       "      <td>13</td>\n",
       "      <td>2016-09-25 01:21:10.649300</td>\n",
       "      <td>321250</td>\n",
       "      <td>experiment</td>\n",
       "      <td>enroll</td>\n",
       "      <td>98.678583</td>\n",
       "    </tr>\n",
       "    <tr>\n",
       "      <td>14</td>\n",
       "      <td>2016-09-25 01:23:19.800167</td>\n",
       "      <td>439910</td>\n",
       "      <td>control</td>\n",
       "      <td>view</td>\n",
       "      <td>61.234458</td>\n",
       "    </tr>\n",
       "    <tr>\n",
       "      <td>15</td>\n",
       "      <td>2016-09-25 01:26:06.276087</td>\n",
       "      <td>328429</td>\n",
       "      <td>experiment</td>\n",
       "      <td>view</td>\n",
       "      <td>216.649060</td>\n",
       "    </tr>\n",
       "    <tr>\n",
       "      <td>16</td>\n",
       "      <td>2016-09-25 01:46:27.950552</td>\n",
       "      <td>842231</td>\n",
       "      <td>control</td>\n",
       "      <td>view</td>\n",
       "      <td>124.823065</td>\n",
       "    </tr>\n",
       "    <tr>\n",
       "      <td>17</td>\n",
       "      <td>2016-09-25 01:52:35.583314</td>\n",
       "      <td>733523</td>\n",
       "      <td>experiment</td>\n",
       "      <td>enroll</td>\n",
       "      <td>3.911522</td>\n",
       "    </tr>\n",
       "    <tr>\n",
       "      <td>18</td>\n",
       "      <td>2016-09-25 03:22:38.076523</td>\n",
       "      <td>615902</td>\n",
       "      <td>experiment</td>\n",
       "      <td>enroll</td>\n",
       "      <td>175.844668</td>\n",
       "    </tr>\n",
       "    <tr>\n",
       "      <td>19</td>\n",
       "      <td>2016-09-25 03:30:27.549922</td>\n",
       "      <td>498050</td>\n",
       "      <td>experiment</td>\n",
       "      <td>view</td>\n",
       "      <td>34.482087</td>\n",
       "    </tr>\n",
       "  </tbody>\n",
       "</table>\n",
       "</div>"
      ],
      "text/plain": [
       "                     timestamp      id       group  action    duration\n",
       "0   2016-09-24 17:14:52.012145  261869  experiment    view  130.545004\n",
       "1   2016-09-24 18:45:09.645857  226546  experiment    view  159.862440\n",
       "2   2016-09-24 19:16:21.002533  286353  experiment    view   79.349315\n",
       "3   2016-09-24 19:43:06.927785  842279  experiment    view   55.536126\n",
       "4   2016-09-24 21:08:22.790333  781883  experiment    view  204.322437\n",
       "5   2016-09-24 17:14:52.012145  261869  experiment    view  130.545004\n",
       "6   2016-09-24 18:45:09.645857  226546  experiment    view  159.862440\n",
       "7   2016-09-24 19:16:21.002533  286353  experiment    view   79.349315\n",
       "8   2016-09-24 19:43:06.927785  842279  experiment    view   55.536126\n",
       "9   2016-09-24 21:08:22.790333  781883  experiment  enroll  204.322437\n",
       "10  2016-09-24 22:18:15.857434  266695  experiment    view  151.235475\n",
       "11  2016-09-24 22:42:41.218757  701620     control    view  302.951552\n",
       "12  2016-09-24 22:43:35.119748  701620     control    view         NaN\n",
       "13  2016-09-25 01:21:10.649300  321250  experiment  enroll   98.678583\n",
       "14  2016-09-25 01:23:19.800167  439910     control    view   61.234458\n",
       "15  2016-09-25 01:26:06.276087  328429  experiment    view  216.649060\n",
       "16  2016-09-25 01:46:27.950552  842231     control    view  124.823065\n",
       "17  2016-09-25 01:52:35.583314  733523  experiment  enroll    3.911522\n",
       "18  2016-09-25 03:22:38.076523  615902  experiment  enroll  175.844668\n",
       "19  2016-09-25 03:30:27.549922  498050  experiment    view   34.482087"
      ]
     },
     "execution_count": 16,
     "metadata": {},
     "output_type": "execute_result"
    }
   ],
   "source": [
    "import pandas as pd\n",
    "import numpy as np\n",
    "import matplotlib.pyplot as plt\n",
    "np.random.seed(42)\n",
    "\n",
    "df = pd.read_csv('course_page_actions.csv')\n",
    "df.head(20)"
   ]
  },
  {
   "cell_type": "code",
   "execution_count": 3,
   "metadata": {},
   "outputs": [
    {
     "data": {
      "text/plain": [
       "array(['view', 'enroll'], dtype=object)"
      ]
     },
     "execution_count": 3,
     "metadata": {},
     "output_type": "execute_result"
    }
   ],
   "source": [
    "df.action.unique()"
   ]
  },
  {
   "cell_type": "code",
   "execution_count": 4,
   "metadata": {},
   "outputs": [],
   "source": [
    "#crate a new dataframe by extracting all the actions from the control group and give a new name\n",
    "control_df = df.query('group == \"control\"')"
   ]
  },
  {
   "cell_type": "code",
   "execution_count": 20,
   "metadata": {},
   "outputs": [
    {
     "data": {
      "text/plain": [
       "0.23452157598499063"
      ]
     },
     "execution_count": 20,
     "metadata": {},
     "output_type": "execute_result"
    }
   ],
   "source": [
    "#now find the Enrollment Rate by finding the number of uniqe users who enrolled\n",
    "#devided by the number of unique users who viewed\n",
    "control_ctr = control_df.query('action==\"enroll\"').count()[0]/control_df.query('action==\"view\"').count()[0]\n",
    "control_ctr"
   ]
  },
  {
   "cell_type": "markdown",
   "metadata": {},
   "source": [
    "__Above gives us a Enrollment rate of 23% for control group.__"
   ]
  },
  {
   "cell_type": "code",
   "execution_count": 21,
   "metadata": {},
   "outputs": [],
   "source": [
    "# Lets do the same for experiment group\n",
    "experiment_df = df.query('group == \"experiment\"')"
   ]
  },
  {
   "cell_type": "code",
   "execution_count": 22,
   "metadata": {},
   "outputs": [
    {
     "data": {
      "text/plain": [
       "0.2642986152919928"
      ]
     },
     "execution_count": 22,
     "metadata": {},
     "output_type": "execute_result"
    }
   ],
   "source": [
    "experiment_ctr = experiment_df.query('action==\"enroll\"').count()[0]/experiment_df.query('action==\"view\"').count()[0]\n",
    "experiment_ctr"
   ]
  },
  {
   "cell_type": "markdown",
   "metadata": {},
   "source": [
    "__This gives us an experiment users Enrollment rate of almost 26%.__"
   ]
  },
  {
   "cell_type": "code",
   "execution_count": 23,
   "metadata": {},
   "outputs": [
    {
     "data": {
      "text/plain": [
       "0.02977703930700215"
      ]
     },
     "execution_count": 23,
     "metadata": {},
     "output_type": "execute_result"
    }
   ],
   "source": [
    "obs_diff = experiment_ctr - control_ctr\n",
    "obs_diff"
   ]
  },
  {
   "cell_type": "markdown",
   "metadata": {},
   "source": [
    "__From the above difference, with the given sample, we can find out that the experiment Enrollment rate is higher about 3% than the control group Enrollment rate.__\n",
    "\n",
    "Now that we know the observed difference in this sample, we have to see if this difference is significant and not just due to chance.\n",
    "\n",
    "__Lets bootsrap the sample to simulate the sampling distributin for difference in poroportion__"
   ]
  },
  {
   "cell_type": "code",
   "execution_count": 24,
   "metadata": {},
   "outputs": [],
   "source": [
    "diffs = []\n",
    "for _ in range(10000):\n",
    "    boot_samp = df.sample(df.shape[0], replace = True)\n",
    "    control_df = boot_samp.query('group == \"control\"')\n",
    "    experiment_df = boot_samp.query('group == \"experiment\"')\n",
    "    control_ctr = control_df.query('action==\"enroll\"').count()[0]/control_df.query('action==\"view\"').count()[0]\n",
    "    experiment_ctr = experiment_df.query('action==\"enroll\"').count()[0]/experiment_df.query('action==\"view\"').count()[0]\n",
    "    diffs.append(experiment_ctr - control_ctr)"
   ]
  },
  {
   "cell_type": "code",
   "execution_count": 25,
   "metadata": {},
   "outputs": [
    {
     "data": {
      "image/png": "[encoded data removed]",
      "text/plain": [
       "<Figure size 432x288 with 1 Axes>"
      ]
     },
     "metadata": {
      "needs_background": "light"
     },
     "output_type": "display_data"
    }
   ],
   "source": [
    "#lets take a look at our sampling distribution\n",
    "plt.hist(diffs);"
   ]
  },
  {
   "cell_type": "markdown",
   "metadata": {},
   "source": [
    "We can compute the pvalue for a statistic, which is the observed difference in proportion by  simulating the distribution under the null hypothesis. And then finding the probability that our statistice obtain from this distribution. To simulate from the null, we will create a normal distribution centered at 0 and with the same standard deviation as our sampling distribution we simulated as here. "
   ]
  },
  {
   "cell_type": "code",
   "execution_count": 26,
   "metadata": {},
   "outputs": [],
   "source": [
    "diffs = np.array(diffs)\n",
    "null_vals = np.random.normal(0,np.std(diffs), diffs.size)"
   ]
  },
  {
   "cell_type": "code",
   "execution_count": 27,
   "metadata": {},
   "outputs": [
    {
     "data": {
      "text/plain": [
       "<matplotlib.lines.Line2D at 0x1bb602d4710>"
      ]
     },
     "execution_count": 27,
     "metadata": {},
     "output_type": "execute_result"
    },
    {
     "data": {
      "image/png": "[encoded data removed]",
      "text/plain": [
       "<Figure size 432x288 with 1 Axes>"
      ]
     },
     "metadata": {
      "needs_background": "light"
     },
     "output_type": "display_data"
    }
   ],
   "source": [
    "#lets have a look a the null distribution. and see where the obs diff false\n",
    "plt.hist(null_vals);\n",
    "plt.axvline(x=obs_diff, color = 'red')"
   ]
  },
  {
   "cell_type": "code",
   "execution_count": 28,
   "metadata": {},
   "outputs": [
    {
     "data": {
      "text/plain": [
       "0.0624"
      ]
     },
     "execution_count": 28,
     "metadata": {},
     "output_type": "execute_result"
    }
   ],
   "source": [
    "(null_vals > obs_diff).mean()"
   ]
  },
  {
   "cell_type": "markdown",
   "metadata": {},
   "source": [
    "__Question:__ Do you have evidence, with a type I error rate of 0.05, that the enrollment rate for this course increases when using the experimental description on its overview page? \n",
    "\n",
    "pvalue > alpha so we failed to reject the null. Here our pvalue suggests there is no significant evidence that the experimental page has higher enrollment rate.\n",
    "\n",
    "$$H_{0}: CTR_{new} - CTR_{old} \\leq 0$$\n",
    "\n",
    "$$H_{1}: CTR_{new} - CTR_{old} > 0$$"
   ]
  }
 ],
 "metadata": {
  "kernelspec": {
   "display_name": "Python 3",
   "language": "python",
   "name": "python3"
  },
  "language_info": {
   "codemirror_mode": {
    "name": "ipython",
    "version": 3
   },
   "file_extension": ".py",
   "mimetype": "text/x-python",
   "name": "python",
   "nbconvert_exporter": "python",
   "pygments_lexer": "ipython3",
   "version": "3.7.3"
  }
 },
 "nbformat": 4,
 "nbformat_minor": 2
}
