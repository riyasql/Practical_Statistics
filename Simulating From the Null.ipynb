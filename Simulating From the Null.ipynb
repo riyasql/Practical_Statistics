{
 "cells": [
  {
   "cell_type": "markdown",
   "metadata": {},
   "source": [
    "# Simulating From the Null Hypothesis\n",
    "\n",
    "In the previous lesson on confidence intervals, we saw how we could simulate a sampling distribution for a statistic by bootstrapping our sample data. Alternatively, in hypothesis testing, we could simulate a sampling distribution from the null hypothesis using characteristics that would be true if our data were to have come from the null.\n",
    "\n",
    "In this notebook, you will walk through this process, and answer some quiz questions to solidify your understanding.\n",
    "\n"
   ]
  },
  {
   "cell_type": "markdown",
   "metadata": {},
   "source": [
    "__If you were interested in if the average height for coffee drinkers is the same as for non-coffee drinkers, what would the null and alternative be?__\n",
    "\n",
    "The average height for all coffee drinkers is the same as the average height for all non-coffee drinkers.\n",
    "$$H_0:\\mu_{height\\,of\\,coffee} = \\mu_{height\\,of\\,nocoffee} $$\n",
    "\n",
    "The average height for all coffee drinkers is not the same as the average height for all non-coffee drinkers.\n",
    "$$H_1:\\mu_{height\\,of\\,coffee} \\,\\,!= \\mu_{height\\,of\\,nocoffee} $$\n",
    "\n",
    "_<b>Since there is no directional component associated with this statement, we can re consider the null and alternative hypotheis as below.<b>_\n",
    "\n",
    "$$H_0:\\mu_{height\\,of\\,coffee} - \\mu_{height\\,of\\,nocoffee} = 0$$\n",
    "\n",
    "$$H_1:\\mu_{height\\,of\\,coffee} \\,\\,- \\mu_{height\\,of\\,nocoffee} ≠ 0$$\n"
   ]
  },
  {
   "cell_type": "markdown",
   "metadata": {},
   "source": [
    "__Similarly If you were interested in if the average height for coffee drinkers is less than non-coffee drinkers, what would the null and alternative be?__\n",
    "\n",
    "In this case, there is a question associated with a direction - that is the average height for coffee drinkers is less than non-coffee drinkers. Below is one of the ways you could write the null and alternative. Since the mean for coffee drinkers is listed first here, the alternative would suggest that this is negative\n",
    "\n",
    "$$H_0:\\mu_{height\\,of\\,coffee} - \\mu_{height\\,of\\,nocoffee}≥0$$\n",
    " \n",
    "$$H_0:\\mu_{height\\,of\\,coffee} - \\mu_{height\\,of\\,nocoffee}<0$$\n",
    "\n",
    "$\\mu_{height\\,of\\,coffee}$ and $\\mu_{height\\,of\\,nocoffee}$ are the population mean height values for coffee drinkers and non-coffee drinkers, respectivley."
   ]
  },
  {
   "cell_type": "code",
   "execution_count": 68,
   "metadata": {},
   "outputs": [],
   "source": [
    "import pandas as pd\n",
    "import numpy as np\n",
    "import matplotlib.pyplot as plt\n",
    "%matplotlib inline\n",
    "np.random.seed(42)\n",
    "\n",
    "#pull the coffee dataset and store it in a dataframe\n",
    "df = pd.read_csv('coffee_dataset.csv')\n",
    "\n",
    "#take a sample of 200 and give a new name \n",
    "sample_df = df.sample(200)"
   ]
  },
  {
   "cell_type": "markdown",
   "metadata": {},
   "source": [
    "#### The standard deviation of the sampling distribution for the mean of those that drink coffee"
   ]
  },
  {
   "cell_type": "code",
   "execution_count": 69,
   "metadata": {},
   "outputs": [],
   "source": [
    "#bootstrap the sample and find the mean height of those who drink cofee\n",
    "#and store it in a vector called coffee_means and repeat this for 10000 times\n",
    "coffee_means = []\n",
    "for _ in range(10000):\n",
    "    bootsample = sample_df.sample(200, replace = True)\n",
    "    coffee_means.append(bootsample[bootsample['drinks_coffee'] == True]['height'].mean())"
   ]
  },
  {
   "cell_type": "code",
   "execution_count": 70,
   "metadata": {},
   "outputs": [
    {
     "data": {
      "text/plain": [
       "0.24073763373473"
      ]
     },
     "execution_count": 70,
     "metadata": {},
     "output_type": "execute_result"
    }
   ],
   "source": [
    "#find the standard deviation of the sampling distribution for the mean of those who drink coffee\n",
    "np.std(coffee_means)"
   ]
  },
  {
   "cell_type": "markdown",
   "metadata": {},
   "source": [
    "#### The standard deviation of the sampling distribution for the mean of those that do not drink coffee"
   ]
  },
  {
   "cell_type": "code",
   "execution_count": 71,
   "metadata": {},
   "outputs": [],
   "source": [
    "#repeat the above process same process for those who do not drink cofee\n",
    "nocoffee_means = []\n",
    "for _ in range(10000):\n",
    "    bootsample = sample_df.sample(200, replace = True)\n",
    "    nocoffee_means.append(bootsample[bootsample['drinks_coffee'] == False]['height'].mean())"
   ]
  },
  {
   "cell_type": "code",
   "execution_count": 72,
   "metadata": {},
   "outputs": [
    {
     "data": {
      "text/plain": [
       "0.4042483814775941"
      ]
     },
     "execution_count": 72,
     "metadata": {},
     "output_type": "execute_result"
    }
   ],
   "source": [
    "#find the out The standard deviation of the sampling distribution for the mean of those that do not drink coffee\n",
    "np.std(nocoffee_means)"
   ]
  },
  {
   "cell_type": "markdown",
   "metadata": {},
   "source": [
    "#### Shape of sampling distribution:- Looks like a normal distribution as per the central limiy theorem"
   ]
  },
  {
   "cell_type": "code",
   "execution_count": 73,
   "metadata": {},
   "outputs": [
    {
     "data": {
      "image/png": "[encoded data removed]",
      "text/plain": [
       "<Figure size 432x288 with 1 Axes>"
      ]
     },
     "metadata": {
      "needs_background": "light"
     },
     "output_type": "display_data"
    }
   ],
   "source": [
    "plt.hist(coffee_means);"
   ]
  },
  {
   "cell_type": "code",
   "execution_count": 74,
   "metadata": {},
   "outputs": [
    {
     "data": {
      "image/png": "[encoded data removed]",
      "text/plain": [
       "<Figure size 432x288 with 1 Axes>"
      ]
     },
     "metadata": {
      "needs_background": "light"
     },
     "output_type": "display_data"
    }
   ],
   "source": [
    "plt.hist(nocoffee_means);"
   ]
  },
  {
   "cell_type": "markdown",
   "metadata": {},
   "source": [
    "#### The standard deviation of the sampling distribution for the difference in means of those that drink coffee and those do not."
   ]
  },
  {
   "cell_type": "code",
   "execution_count": 80,
   "metadata": {},
   "outputs": [],
   "source": [
    "#repeat the bootstrapping process that we did earlier,but this time to find the difference in mean height and store it in a vecto called diff\n",
    "diff = []\n",
    "for _ in range(10000):\n",
    "    bootsample = sample_df.sample(200, replace = True)\n",
    "    coffee_mean = bootsample[bootsample['drinks_coffee'] == True]['height'].mean()\n",
    "    nocoffee_mean = bootsample[bootsample['drinks_coffee'] == False]['height'].mean()\n",
    "    diff.append(coffee_mean - nocoffee_mean)"
   ]
  },
  {
   "cell_type": "code",
   "execution_count": 81,
   "metadata": {},
   "outputs": [
    {
     "data": {
      "text/plain": [
       "0.469475402733036"
      ]
     },
     "execution_count": 81,
     "metadata": {},
     "output_type": "execute_result"
    }
   ],
   "source": [
    "#find the The standard deviation of the sampling distribution for the difference in means of those that drink coffee and those do not.\n",
    "np.std(diff)"
   ]
  },
  {
   "cell_type": "code",
   "execution_count": 82,
   "metadata": {},
   "outputs": [
    {
     "data": {
      "image/png": "[encoded data removed]",
      "text/plain": [
       "<Figure size 432x288 with 1 Axes>"
      ]
     },
     "metadata": {
      "needs_background": "light"
     },
     "output_type": "display_data"
    }
   ],
   "source": [
    "plt.hist(diff);"
   ]
  },
  {
   "cell_type": "markdown",
   "metadata": {},
   "source": [
    "#### Use your solutions about the sampling distribution, and what difference in means would be likely from the null hypothesis \n",
    "\n",
    "Now, use your sampling distribution for the difference in means and the docs to simulate what you would expect if your sampling distribution were centered on zero. Also, calculate the observed sample mean difference in sample_df. Use your solutions to answer the last questions in the quiz below.\n",
    "\n",
    "By central limit theorem it would follow normal distribution (_With a sample size of 150, the mean should follow a normal distribution by the central limit theorem_). Now from the [numpy documentation](https://numpy.org/doc/stable/reference/random/generated/numpy.random.normal.html) on normal distribution , we see we can simulate draws from the normal distribution using the hypothesis mean at zero in the standard deviation of our sampling distribution following way."
   ]
  },
  {
   "cell_type": "code",
   "execution_count": 83,
   "metadata": {},
   "outputs": [],
   "source": [
    "#in this equation, the parameter loc which is the difference in mean of the distribution which is 0, \n",
    "#and parameter scale is the standard deviation of the sampling distribution of difference in mean and we can simulate for a 10000 values now\n",
    "\n",
    "null_values = np.random.normal(0, np.std(diff), 10000)"
   ]
  },
  {
   "cell_type": "markdown",
   "metadata": {},
   "source": [
    "Each of the simulated null values or each of the simulated draws here represents the possible mean values from null hpothesis"
   ]
  },
  {
   "cell_type": "code",
   "execution_count": 84,
   "metadata": {},
   "outputs": [
    {
     "data": {
      "image/png": "[encoded data removed]",
      "text/plain": [
       "<Figure size 432x288 with 1 Axes>"
      ]
     },
     "metadata": {
      "needs_background": "light"
     },
     "output_type": "display_data"
    }
   ],
   "source": [
    "#lets plot the possible mean values from the null hypothesis\n",
    "plt.hist(null_values);"
   ]
  },
  {
   "cell_type": "markdown",
   "metadata": {},
   "source": [
    "we can now ask the question whre the sample mean falls in this above distribution\n",
    "\n",
    "We can expect the standard deviation of the sampling distribution for differences from the null to be essentially the same as what we observed from the data.\n",
    "If the null hypothesis is true, we would expect the difference in means of coffee drinkers and non-drinkers to be zero."
   ]
  },
  {
   "cell_type": "markdown",
   "metadata": {},
   "source": [
    "_<b>Comparing the actual difference in sample mean to this null hypothesis distribution tells us the likelihood of our statistics coming from the Null<b>_\n",
    "  \n",
    "If we go back and have a look at where our sample mean was, which is the value 0.47. It falls inside above plotted histogram of null hypothesis distribution. Which indicated that the sample mean 0.47 is came from the null hypothesis values. And ther for the null is more likely to be true."
   ]
  },
  {
   "cell_type": "markdown",
   "metadata": {},
   "source": [
    "### Some Clarity On The Ending\n",
    "In the end, it is suggested that we do not believe that our null hypothesis value of diffenrece in mean 0 would be supported, which is true. However, since our null is that the population mean is greater than or equal to 0, we do have evidence to support this claim with our sample mean of approximately 0.47. This would suggest not rejecting our one-sided null alternative.\n"
   ]
  }
 ],
 "metadata": {
  "kernelspec": {
   "display_name": "Python 3",
   "language": "python",
   "name": "python3"
  },
  "language_info": {
   "codemirror_mode": {
    "name": "ipython",
    "version": 3
   },
   "file_extension": ".py",
   "mimetype": "text/x-python",
   "name": "python",
   "nbconvert_exporter": "python",
   "pygments_lexer": "ipython3",
   "version": "3.7.3"
  }
 },
 "nbformat": 4,
 "nbformat_minor": 2
}
